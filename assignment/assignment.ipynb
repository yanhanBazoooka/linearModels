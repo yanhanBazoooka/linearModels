{
  "cells": [
    {
      "cell_type": "markdown",
      "id": "e0c7b14a-e5aa-4abc-b48b-b8a9d20dacac",
      "metadata": {
        "id": "e0c7b14a-e5aa-4abc-b48b-b8a9d20dacac"
      },
      "source": [
        "# Assignment: Linear Models\n",
        "## Do three questions.\n",
        "### `! git clone https://github.com/ds4e/linearModels`"
      ]
    },
    {
      "cell_type": "markdown",
      "id": "bf4826b0",
      "metadata": {
        "id": "bf4826b0"
      },
      "source": [
        "**Q1.** Please answer the following questions in your own words.\n",
        "\n",
        "1. What makes a model \"linear\"? \"Linear\" in what?\n",
        "-   A model is \"linear\" if its predictions are made based on a linear combination of unknown parameters, which are known as coefficients. Essentially, the parameters appear in the equation only with exponents of 1 and are not multiplied together. This usage of \"linear\" focuses more on the linearity of parameters than on that of explanatory variables. It is acceptable to include polynomial or interaction terms in a \"linear\" model as long as these terms are expressed as simple coefficients times each respective term.\n",
        "2. How do you interpret the coefficient for a dummy/one-hot-encoded variable? (This is a trick question, and the trick involves how you handle the intercept of the model.)\n",
        "-   The interpretation of a coefficient on a dummy variable is inherently dependent on the presence of an intercept in the regression equation. In standard regression models that include both an intercept and a single dummy variable, the dummy variable’s coefficient represents the expected change in the dependent variable when the dummy variable is equal to 1 rather than 0, ceteris paribus. However, without an intercept, the coefficient on a dummy variable loses its standard interpretation as a “deviation from a reference category” and instead represents the predicted value specific only to that category.\n",
        "3. Can linear regression be used for classification? Explain why, or why not.\n",
        "-   Although linear regression can be used for classification problems through the use of binary class labels (0 and 1) as the target variable, it is normally considered inappropriate. The model will produce forecasts that fall outside the range [0, 1], and it does not properly deal with class boundaries or probabilities like logistic regression or other classification algorithms. Also, error calculation in this case does not conform to the goals of classification.\n",
        "4. What are signs that your linear model is over-fitting?\n",
        "-   Overfitting results when a model strongly fits the training data but fails to provide satisfactory generalization when used for new, unseen datasets. Phenomena observable of this behavior include small residual errors in the training set with respect to very large errors in validation or testing sets. Further, the instability of estimated coefficients in response to small changes in the training set indicates that the model relies on noise or specific features present in the training set instead of a real underlying relationship.\n",
        "5. Clearly explain multi-colinearity using the two-stage least squares technique.\n",
        "-   Multi-collinearity occurs when two or more independent variables are highly correlated with each other, making it difficult to separate the individual effects of each variable. Under the two-stage least squares approach, the first stage is to regress the offending variable against substitute \"instruments\" or exogenous variables, then to utilize the resulting predictions in the second stage. If the instruments prove inadequate in offering independent variation, then the problem of near-collinearity continues, leading to unstable estimates of the coefficients. Essentially, severe collinearity means that slight changes in the data can create large changes in the coefficients since the model has difficulty separating the contributions of each highly correlated variable.\n",
        "6. How can you incorporate nonlinear relationships between your target/response/dependent/outcome variable $y$ and your features/control/response/independent variables $x$ into your analysis?\n",
        "-   Despite being a “linear” model in parameters, we can incorporate nonlinearities by transforming we predictors. Common techniques include using polynomial terms, logarithms, or other functional transformations. Interaction terms let me capture relationships that vary depending on the level of another variable. All of these still qualify as “linear” models as long as my parameters multiply each transformed term in a linear fashion.\n",
        "7. What is the interpretation of the intercept? A slope coefficient for a variable? The coefficient for a dummy/one-hot-encoded variable?\n",
        "-   Intercept: The expected value of the outcome when all predictors (including dummy variables) are zero.\n",
        "-   Slope Coefficient: The expected change in the outcome for a one-unit increase in that predictor, holding all other variables constant.\n",
        "-   Dummy Variable Coefficient: With an intercept, it represents how much the outcome differs for that category compared to the baseline (dummy = 0) category, again holding other variables constant."
      ]
    },
    {
      "cell_type": "markdown",
      "id": "25bf83c6-ff44-42d6-9b33-8be1b945860d",
      "metadata": {
        "id": "25bf83c6-ff44-42d6-9b33-8be1b945860d"
      },
      "source": [
        "**Q2.** Load `./data/Q1_clean.csv`. The data include\n",
        "\n",
        "- `Price` per night\n",
        "- `Review Scores Rating`: The average rating for the property\n",
        "- `Neighbourhood `: The bourough of NYC. Note the space, or rename the variable.\n",
        "- `Property Type`: The kind of dwelling\n",
        "- `Room Type`: The kind of space being rented\n",
        "\n",
        "1. Compute the average prices and scores by `Neighbourhood `; which bourough is the most expensive on average? Create a kernel density plot of price and log price, grouping by `Neighbourhood `.\n",
        "2. Regress price on `Neighbourhood ` by creating the appropriate dummy/one-hot-encoded variables, without an intercept in the linear model and using all the data. Compare the coefficients in the regression to the table from part 1. What pattern do you see? What are the coefficients in a regression of a continuous variable on one categorical variable?\n",
        "3. Repeat part 2, but leave an intercept in the linear model. How do you have to handle the creation of the dummies differently? What is the intercept? Interpret the coefficients. How can I get the coefficients in part 2 from these new coefficients?\n",
        "4. Split the sample 80/20 into a training and a test set. Run a regression of `Price` on `Review Scores Rating` and `Neighbourhood `. What is the $R^2$ and RMSE on the test set? What is the coefficient on `Review Scores Rating`? What is the most expensive kind of property you can rent?\n",
        "5. Split the sample 80/20 into a training and a test set. Run a regression of `Price` on `Review Scores Rating` and `Neighbourhood ` and `Property Type`. What is the $R^2$ and RMSE on the test set? What is the coefficient on `Review Scores Rating`? What is the most expensive kind of property you can rent?\n",
        "6. What does the coefficient on `Review Scores Rating` mean if it changes from part 4 to 5? Hint: Think about how multilple linear regression works.\n",
        "7. (Optional) We've included `Neighborhood ` and `Property Type` separately in the model. How do you interact them, so you can have \"A bedroom in Queens\" or \"A townhouse in Manhattan\". Split the sample 80/20 into a training and a test set and run a regression including that kind of \"property type X neighborhood\" dummy, plus `Review Scores Rating`. How does the slope coefficient for `Review Scores Rating`, the $R^2$, and the RMSE change? Do they increase significantly compares to part 5? Are the coefficients in this regression just the sum of the coefficients for `Neighbourhood ` and `Property Type` from 5? What is the most expensive kind of property you can rent?"
      ]
    },
    {
      "cell_type": "markdown",
      "id": "95f22300-0180-4ed2-be8f-ed56cf4cd36b",
      "metadata": {
        "id": "95f22300-0180-4ed2-be8f-ed56cf4cd36b"
      },
      "source": [
        "**Q3.** This question is a case study for linear models. The data are about car prices. In particular, they include:\n",
        "\n",
        "  - `Price`, `Color`, `Seating_Capacity`\n",
        "  - `Body_Type`: crossover, hatchback, muv, sedan, suv\n",
        "  - `Make`, `Make_Year`: The brand of car and year produced\n",
        "  - `Mileage_Run`: The number of miles on the odometer\n",
        "  - `Fuel_Type`: Diesel or gasoline/petrol\n",
        "  - `Transmission`, `Transmission_Type`:  speeds and automatic/manual\n",
        "\n",
        "  1. Load `cars_hw.csv`. These data were really dirty, and I've already cleaned them a significant amount in terms of missing values and other issues, but some issues remain (e.g. outliers, badly scaled variables that require a log or arcsinh transformation). Clean the data however you think is most appropriate.\n",
        "  2. Summarize the `Price` variable and create a kernel density plot. Use `.groupby()` and `.describe()` to summarize prices by brand (`Make`). Make a grouped kernel density plot by `Make`. Which car brands are the most expensive? What do prices look like in general?\n",
        "  3. Split the data into an 80% training set and a 20% testing set.\n",
        "  4. Make a model where you regress price on the numeric variables alone; what is the $R^2$ and `RMSE` on the training set and test set? Make a second model where, for the categorical variables, you regress price on a model comprised of one-hot encoded regressors/features alone (you can use `pd.get_dummies()`; be careful of the dummy variable trap); what is the $R^2$ and `RMSE` on the test set? Which model performs better on the test set? Make a third model that combines all the regressors from the previous two; what is the $R^2$ and `RMSE` on the test set? Does the joint model perform better or worse, and by home much?\n",
        "  5. Use the `PolynomialFeatures` function from `sklearn` to expand the set of numerical variables you're using in the regression. As you increase the degree of the expansion, how do the $R^2$ and `RMSE` change? At what point does $R^2$ go negative on the test set? For your best model with expanded features, what is the $R^2$ and `RMSE`? How does it compare to your best model from part 4?\n",
        "  6. For your best model so far, determine the predicted values for the test data and plot them against the true values. Do the predicted values and true values roughly line up along the diagonal, or not? Compute the residuals/errors for the test data and create a kernel density plot. Do the residuals look roughly bell-shaped around zero? Evaluate the strengths and weaknesses of your model."
      ]
    },
    {
      "cell_type": "markdown",
      "id": "aedcd486",
      "metadata": {},
      "source": [
        "**Q4.** This question refers to the `heart_hw.csv` data. It contains three variables:\n",
        "\n",
        "  - `y`: Whether the individual survived for three years, coded 0 for death and 1 for survival\n",
        "  - `age`: Patient's age\n",
        "  - `transplant`: `control` for not receiving a transplant and `treatment` for receiving a transplant\n",
        "\n",
        "Since a heart transplant is a dangerous operation and even people who successfully get heart transplants might suffer later complications, we want to look at whether a group of transplant recipients tends to survive longer than a comparison group who does not get the procedure.\n",
        "\n",
        "1. Compute (a) the proportion of people who survive in the control group who do not receive a transplant, and (b) the difference between the proportion of people who survive in the treatment group and the proportion of people who survive in the control group. In a randomized controlled trial, this is called the **average treatment effect**."
      ]
    },
    {
      "cell_type": "code",
      "execution_count": 2,
      "id": "f1320a4b",
      "metadata": {},
      "outputs": [
        {
          "data": {
            "text/plain": [
              "(np.float64(0.11764705882352941), np.float64(0.23017902813299232))"
            ]
          },
          "execution_count": 2,
          "metadata": {},
          "output_type": "execute_result"
        }
      ],
      "source": [
        "import pandas as pd\n",
        "\n",
        "df = pd.read_csv(\"data/heart_hw.csv\")\n",
        "\n",
        "# (a) Proportion surviving in control group\n",
        "control_df = df[df['transplant'] == 'control']\n",
        "prop_control = control_df['y'].mean()\n",
        "\n",
        "# (b) Proportion surviving in treatment group minus proportion in control group\n",
        "treatment_df = df[df['transplant'] == 'treatment']\n",
        "prop_treatment = treatment_df['y'].mean()\n",
        "ate = prop_treatment - prop_control\n",
        "\n",
        "prop_control, ate\n"
      ]
    },
    {
      "cell_type": "markdown",
      "id": "6fa938d9",
      "metadata": {},
      "source": [
        "2. Regress `y` on `transplant` using a linear model with a constant. How does the constant/intercept of the regression and the coefficient on transplant compare to your answers from part 1? Explain the relationship clearly."
      ]
    },
    {
      "cell_type": "code",
      "execution_count": 4,
      "id": "4f06280f",
      "metadata": {},
      "outputs": [
        {
          "name": "stdout",
          "output_type": "stream",
          "text": [
            "                            OLS Regression Results                            \n",
            "==============================================================================\n",
            "Dep. Variable:                      y   R-squared:                       0.059\n",
            "Model:                            OLS   Adj. R-squared:                  0.050\n",
            "Method:                 Least Squares   F-statistic:                     6.354\n",
            "Date:                Mon, 24 Mar 2025   Prob (F-statistic):             0.0133\n",
            "Time:                        17:16:51   Log-Likelihood:                -59.591\n",
            "No. Observations:                 103   AIC:                             123.2\n",
            "Df Residuals:                     101   BIC:                             128.5\n",
            "Df Model:                           1                                         \n",
            "Covariance Type:            nonrobust                                         \n",
            "===================================================================================\n",
            "                      coef    std err          t      P>|t|      [0.025      0.975]\n",
            "-----------------------------------------------------------------------------------\n",
            "const               0.1176      0.075      1.574      0.119      -0.031       0.266\n",
            "treatment_dummy     0.2302      0.091      2.521      0.013       0.049       0.411\n",
            "==============================================================================\n",
            "Omnibus:                       22.540   Durbin-Watson:                   1.416\n",
            "Prob(Omnibus):                  0.000   Jarque-Bera (JB):               17.584\n",
            "Skew:                           0.902   Prob(JB):                     0.000152\n",
            "Kurtosis:                       2.080   Cond. No.                         3.24\n",
            "==============================================================================\n",
            "\n",
            "Notes:\n",
            "[1] Standard Errors assume that the covariance matrix of the errors is correctly specified.\n"
          ]
        }
      ],
      "source": [
        "import statsmodels.api as sm\n",
        "import numpy as np\n",
        "\n",
        "# Convert the transplant variable into a numeric dummy for OLS\n",
        "df['treatment_dummy'] = np.where(df['transplant'] == 'treatment', 1, 0)\n",
        "\n",
        "X = sm.add_constant(df['treatment_dummy'])\n",
        "model = sm.OLS(df['y'], X).fit()\n",
        "print(model.summary())\n"
      ]
    },
    {
      "cell_type": "markdown",
      "id": "6bc2b83d",
      "metadata": {},
      "source": [
        "The reason is that in a linear regression with one dummy variable plus a constant, the constant estimates the mean of the “baseline” group, and the coefficient on the dummy variable estimates how much the mean outcome changes when moving from the baseline to the treatment group."
      ]
    },
    {
      "cell_type": "markdown",
      "id": "17efc2e6",
      "metadata": {},
      "source": [
        "3. We'd like to include `age` in the regression, since it's reasonable to expect that older patients are less likely to survive an extensive surgery like a heart transplant. Regress `y` on a constant, transplant, and age. How does the intercept change?"
      ]
    },
    {
      "cell_type": "code",
      "execution_count": 5,
      "id": "0f17a222",
      "metadata": {},
      "outputs": [
        {
          "name": "stdout",
          "output_type": "stream",
          "text": [
            "                            OLS Regression Results                            \n",
            "==============================================================================\n",
            "Dep. Variable:                      y   R-squared:                       0.147\n",
            "Model:                            OLS   Adj. R-squared:                  0.130\n",
            "Method:                 Least Squares   F-statistic:                     8.602\n",
            "Date:                Mon, 24 Mar 2025   Prob (F-statistic):           0.000357\n",
            "Time:                        17:18:46   Log-Likelihood:                -54.558\n",
            "No. Observations:                 103   AIC:                             115.1\n",
            "Df Residuals:                     100   BIC:                             123.0\n",
            "Df Model:                           2                                         \n",
            "Covariance Type:            nonrobust                                         \n",
            "===================================================================================\n",
            "                      coef    std err          t      P>|t|      [0.025      0.975]\n",
            "-----------------------------------------------------------------------------------\n",
            "const               0.7020      0.196      3.583      0.001       0.313       1.091\n",
            "treatment_dummy     0.2647      0.088      3.006      0.003       0.090       0.439\n",
            "age                -0.0136      0.004     -3.204      0.002      -0.022      -0.005\n",
            "==============================================================================\n",
            "Omnibus:                       14.464   Durbin-Watson:                   1.370\n",
            "Prob(Omnibus):                  0.001   Jarque-Bera (JB):               12.288\n",
            "Skew:                           0.753   Prob(JB):                      0.00215\n",
            "Kurtosis:                       2.227   Cond. No.                         219.\n",
            "==============================================================================\n",
            "\n",
            "Notes:\n",
            "[1] Standard Errors assume that the covariance matrix of the errors is correctly specified.\n"
          ]
        }
      ],
      "source": [
        "X = df[['treatment_dummy','age']]\n",
        "X = sm.add_constant(X)\n",
        "model2 = sm.OLS(df['y'], X).fit()\n",
        "print(model2.summary())\n"
      ]
    },
    {
      "cell_type": "markdown",
      "id": "63ac3904",
      "metadata": {},
      "source": [
        "4. Build a more flexible model that allows for non-linear age effects and interactions between age and treatment. Use a train-test split to validate your model. Estimate your best model, predict the survival probability by age, and plot your results conditional on receiving a transplant and not. Describe what you see."
      ]
    },
    {
      "cell_type": "code",
      "execution_count": 8,
      "id": "c3f0b6e6",
      "metadata": {},
      "outputs": [
        {
          "name": "stdout",
          "output_type": "stream",
          "text": [
            "                            OLS Regression Results                            \n",
            "==============================================================================\n",
            "Dep. Variable:                      y   R-squared:                       0.164\n",
            "Model:                            OLS   Adj. R-squared:                  0.109\n",
            "Method:                 Least Squares   F-statistic:                     2.991\n",
            "Date:                Mon, 24 Mar 2025   Prob (F-statistic):             0.0162\n",
            "Time:                        17:20:50   Log-Likelihood:                -41.009\n",
            "No. Observations:                  82   AIC:                             94.02\n",
            "Df Residuals:                      76   BIC:                             108.5\n",
            "Df Model:                           5                                         \n",
            "Covariance Type:            nonrobust                                         \n",
            "===================================================================================\n",
            "                      coef    std err          t      P>|t|      [0.025      0.975]\n",
            "-----------------------------------------------------------------------------------\n",
            "Intercept          -0.1995      0.564     -0.353      0.725      -1.324       0.925\n",
            "treatment_dummy     1.5274      1.014      1.506      0.136      -0.492       3.547\n",
            "age                 0.0311      0.033      0.949      0.346      -0.034       0.096\n",
            "age2               -0.0005      0.000     -1.119      0.267      -0.001       0.000\n",
            "treatment_age      -0.0571      0.053     -1.079      0.284      -0.163       0.048\n",
            "treatment_age2      0.0006      0.001      0.865      0.390      -0.001       0.002\n",
            "==============================================================================\n",
            "Omnibus:                       10.730   Durbin-Watson:                   1.808\n",
            "Prob(Omnibus):                  0.005   Jarque-Bera (JB):               12.101\n",
            "Skew:                           0.935   Prob(JB):                      0.00236\n",
            "Kurtosis:                       2.790   Cond. No.                     6.39e+04\n",
            "==============================================================================\n",
            "\n",
            "Notes:\n",
            "[1] Standard Errors assume that the covariance matrix of the errors is correctly specified.\n",
            "[2] The condition number is large, 6.39e+04. This might indicate that there are\n",
            "strong multicollinearity or other numerical problems.\n",
            "Test set MSE: 0.1819514745408407\n"
          ]
        },
        {
          "data": {
            "image/png": "[encoded data removed]",
            "text/plain": [
              "<Figure size 640x480 with 1 Axes>"
            ]
          },
          "metadata": {},
          "output_type": "display_data"
        }
      ],
      "source": [
        "from sklearn.model_selection import train_test_split\n",
        "import statsmodels.formula.api as smf\n",
        "import matplotlib.pyplot as plt\n",
        "\n",
        "# Create a binary indicator for transplant\n",
        "df['treatment_dummy'] = np.where(df['transplant'] == 'treatment', 1, 0)\n",
        "\n",
        "#    Create polynomial terms in age for non-linear effects\n",
        "df['age2'] = df['age']**2\n",
        "\n",
        "# Create interaction terms between treatment and (age, age^2)\n",
        "df['treatment_age'] = df['treatment_dummy'] * df['age']\n",
        "df['treatment_age2'] = df['treatment_dummy'] * df['age2']\n",
        "\n",
        "# Train-test split\n",
        "train_df, test_df = train_test_split(df, test_size=0.2, random_state=42)\n",
        "\n",
        "#    Build a more flexible model\n",
        "formula = \"y ~ treatment_dummy + age + age2 + treatment_age + treatment_age2\"\n",
        "model = smf.ols(formula=formula, data=train_df).fit()\n",
        "\n",
        "print(model.summary())\n",
        "\n",
        "#   Validate on the test set: predict and compute mean squared error\n",
        "test_df['pred'] = model.predict(test_df)\n",
        "mse_test = np.mean((test_df['pred'] - test_df['y'])**2)\n",
        "print(\"Test set MSE:\", mse_test)\n",
        "\n",
        "#   Predict survival probability over a grid of ages, separately for control vs. treatment\n",
        "age_grid = np.linspace(df['age'].min(), df['age'].max(), 100)\n",
        "\n",
        "# For control (treatment_dummy = 0)\n",
        "pred_data_control = pd.DataFrame({\n",
        "    'treatment_dummy': 0,\n",
        "    'age': age_grid,\n",
        "    'age2': age_grid**2,\n",
        "    'treatment_age': 0,       # 0 * age_grid\n",
        "    'treatment_age2': 0       # 0 * age_grid^2\n",
        "})\n",
        "\n",
        "# For treatment (treatment_dummy = 1)\n",
        "pred_data_treatment = pd.DataFrame({\n",
        "    'treatment_dummy': 1,\n",
        "    'age': age_grid,\n",
        "    'age2': age_grid**2,\n",
        "    'treatment_age': age_grid,       # 1 * age_grid\n",
        "    'treatment_age2': age_grid**2    # 1 * age_grid^2\n",
        "})\n",
        "\n",
        "pred_control = model.predict(pred_data_control)\n",
        "pred_treatment = model.predict(pred_data_treatment)\n",
        "\n",
        "#   Plot the predicted survival probability vs. age\n",
        "plt.figure()\n",
        "plt.plot(age_grid, pred_control, label='Control')\n",
        "plt.plot(age_grid, pred_treatment, label='Treatment')\n",
        "plt.xlabel('Age')\n",
        "plt.ylabel('Predicted Survival Probability')\n",
        "plt.legend()\n",
        "plt.title('Predicted Survival Probability vs. Age\\n(Linear Probability Model)')\n",
        "plt.show()"
      ]
    },
    {
      "cell_type": "markdown",
      "id": "59a4b9a8",
      "metadata": {},
      "source": [
        "5. Imagine someone suggests using these kinds of models to select who receives organ transplants; perhaps the CDC or NIH starts using a scoring algorithm to decide who is contacted about a potential organ. What are your concerns about how it is built and how it is deployed?"
      ]
    },
    {
      "cell_type": "markdown",
      "id": "7bd15c6b-4c7c-4230-a199-e03e1054ec6a",
      "metadata": {
        "id": "7bd15c6b-4c7c-4230-a199-e03e1054ec6a"
      },
      "source": [
        "**Q5.** This is a question about linear regression. The outcome is whether a defendant is held pre-trial in the Virginia justice system. We would like to understand how that outcome is predicted by characteristics of the defendant, particularly race. Let's be very careful/clear: We aren't saying anyone *should* be held without bond or asserting that people with different demographic variables *should* be more likely to be held, but instead trying to predict whether people with different characteristics *are empirically more likely* to be held without bond, given the available information. This is the first step we would take in investigating whether a system is fair, or how large the disparities are: Does it treat people with similar observable characteristics similarly, or not? We are going to look at a common question: Are Black defendants treated differently from white or Asian ones? (There are Native American defendants, but there are 11 in total, which is such a small number of observations that is difficult to clearly say anything about how this group is treated relative to the others.)\n",
        "\n",
        "The variables in the data are:\n",
        "\n",
        "  - `held_wo_bail`: Whether a defendant is held without bail before trial (Boolean logical)\n",
        "  - `race`, `sex`: Categorical demographic variables\n",
        "  - `is_poor`: Whether the defendant is classified as indigent\n",
        "  - `prior_F`, `prior_M`: The number of prior felony and misdemeanor arrests\n",
        "  - `case_type`: A categorical variable indicating a misdemeanor `M` or felony `F` or infraction `I` or special case `S`\n",
        "  - `age`: Defendant's age\n",
        "  - `bond`, `bond_NA`, `bond_type`: The amount of any bond, whether it is missing, and the type\n",
        "  - `sentence`, `sentence_NA`, `sentence_type`: The length of any sentence, whether it is missing, and the type\n",
        "\n",
        "1. Load the `pretrial_data.csv` data. Notice that there are `nan`s, but the data are relatively clean. Because there are `.nan`s among variables you won't use, you'll want to narrow down your analysis to the relevant variables before dropping or imputing missing values.\n",
        "2. Create a dummy variable indicating that the defendant is Black.\n",
        "3. Regress `held` on `Black`. What is the slope coefficient Interpret the coefficient on the Black dummy variable: How much more likely is a black person to be held without bail? What is the $R^2$ of the model?\n",
        "4. Before doing this question, please think for a few minutes about how to make the process of running the following regressions as efficient as possible, before jumping into writing code. Repeat part 2, for the following specifications, keeping track of the coefficient on the Black dummy variable each time:\n",
        "      - `held` on `Black` and `sex`\n",
        "      - `held` on `Black` and `sex` and `is_poor`\n",
        "      - `held` on `Black` and `sex` and `is_poor` and `prior_F`\n",
        "      - `held` on `Black` and `sex` and `is_poor` and `prior_F` and `case_type`\n",
        "What happens to the coefficient on the Black dummy variable as you include more regressors/features/controls in the regression? Explain your findings.\n",
        "5. Suppose we don't want to see just `Black` and `sex`, but `Black` interacted with `sex`: Are Black men and Black women treated systemically differently from the rest of the population? Implement this in a regression, and explain your findings.\n",
        "6. Imagine someone argued we should use these kinds of models to help a judge or magistrate make bail decisions (you could obviously go back and make this kind of model for the bond and sentence variables, then deploy it on new cases to predict what their bond and sentence values would be). What concerns would you have? Do you think society should be using data-driven and automated tools like that? Explain your concerns clearly."
      ]
    },
    {
      "cell_type": "markdown",
      "id": "ca1cfba3",
      "metadata": {
        "vscode": {
          "languageId": "plaintext"
        }
      },
      "source": [
        "**Q6.** Let's explore multiple linear regression in a two-variable case, to build more intuition about what is happening.\n",
        "\n",
        "Suppose the model is \n",
        "$$\n",
        "\\hat{y}_i = b_0 + b_1 z_{i1} + b_2 z_{i2}\n",
        "$$\n",
        "Assume that $z_{ij}$ is centered or de-meaned, so that $z_{ij} = x_{ij} - m_j$ where $m_j$ is the mean of variable $j$ and $x_{ij}$ is the original value of variable $j$ for observation $i$. Notice that this implies\n",
        "$$\n",
        "\\dfrac{1}{N} \\sum_{i=1}^N z_{ij} = 0\n",
        "$$\n",
        "which will simplify your calculations below substantially!\n",
        "\n",
        "1. Write down the SSE for this model.\n",
        "2. Take partial derivatives with respect to $b_0$, $b_1$, and $b_2$.\n",
        "3. Verify that the average error is zero and $e \\cdot z =0$ at the optimum, just as in the single linear regression case.\n",
        "4. Show that the optimal intercept is $b_0^* = \\bar{y}$. Eliminate $b_0^*$ from the remaining equations, and focus on $b_1$ and $b_2$.\n",
        "5. Write your results as a matrix equation in the form \"$Ab=C$\". These are called the **normal equations**.\n",
        "6. Divide both sides by $N$ and substitute $z_{ij} = x_{ij} - m_j$ back into your normal equations for $x_{ij}$. What is the matrix $A$? What is the vector $C$? Explain the intuition of your discovery."
      ]
    },
    {
      "cell_type": "markdown",
      "id": "547d5828",
      "metadata": {},
      "source": [
        "**Q7.** In class, we showed that for the single linear regression model,\n",
        "\\begin{alignat*}{3}\n",
        "a^* &=& \\bar{y} \\\\\n",
        "b^* &=& \\dfrac{\\sum_{i=1}^N(y_i - \\bar{y})(x_i-\\bar{x})}{\\sum_{i=1}^N (x_i-\\bar{x})^2},\n",
        "\\end{alignat*}\n",
        "\n",
        "1. When will $b^*$ be large or small, depending on the relationship between $X$ and $Y$ and the variance of $X$?\n",
        "- $b^*$ is **large** when\n",
        "  - $\\mathrm{Cov}(X,Y)$ is large in magnitude (strong correlation),\n",
        "  - $\\mathrm{Var}(X)$ is small (the $x_i$ are tightly clustered).\n",
        "- $b^*$ is **small** when\n",
        "  - $\\mathrm{Cov}(X,Y)$ is small,\n",
        "  - $\\mathrm{Var}(X)$ is large.\n",
        "2. Suppose you have measurement error in $X$ which artificially inflates its variance (e.g. bad data cleaning). We'll model this as saying the \"real\" value of $X$ for observation $i$ is $z_i$, but we observe $x_i = z_i + n_i$, where $n_i$ is the added noise. Does this affect the intercept of the regression? What happens to the $b^*$ coefficient relative to a noise-less model? How will affect your ability to predict? (This phenomenon is called **attenuation**.) \n",
        "- **Intercept** $a^*$   \n",
        "   - If $n_i$ has zero mean and is uncorrelated with $y_i$, then on average $\\bar{x}$ is not systematically shifted, so $a^* \\approx \\bar{y}$ remains roughly unchanged.\n",
        "   \n",
        "- **Slope** $b^*$\n",
        "   - The slope depends on $\\mathrm{Cov}(X,Y)$ over $\\mathrm{Var}(X)$. \n",
        "   - Adding noise to $x_i$ inflates $\\mathrm{Var}(X)$, while $\\mathrm{Cov}(X,Y)$ remains roughly the same if $n_i$ is uncorrelated with $Y$.\n",
        "   - Therefore, $b^*$ is **attenuated**, meaning it is biased toward zero.\n",
        "\n",
        "- **Predictive ability**\n",
        "   - Because $b^*$ is pulled toward zero, it will underestimate the true effect of $X$ on $Y$.\n",
        "   - This can degrade prediction if the real relationship is stronger than noisy $X$ data suggests.\n",
        "\n",
        "3. Suppose the noise $n_i$ is independent of $z_i$ and $y_i$, so that (approximately)\n",
        "$$\n",
        "\\dfrac{1}{N} \\sum_{i=1}^N (y_i - \\bar{y})(n_i - \\bar{n}) =0, \\quad \\dfrac{1}{N} \\sum_{i=1}^N (z_i - \\bar{z})(n_i - \\bar{n}) =0.\n",
        "$$\n",
        "and that the mean of the bias is zero, so that\n",
        "$$\n",
        "\\dfrac{1}{N} \\sum_{i=1}^N n_i = 0.\n",
        "$$\n",
        "In this case, the noise $n_i$ is zero on average and independent of the values of $x_i$ and $y_i$: It's just measurement error or lazy data cleaning.\n",
        "Explain the intuition of your result. \n",
        "- The noise $n_i$ is zero on average and uncorrelated with both the true regressor $z_i$ and the outcome $y_i$.\n",
        "- This leaves the correlation between $z_i$ and $y_i$ intact but **inflates** $\\mathrm{Var}(x_i)$ because $x_i = z_i + n_i$.\n",
        "- Since $b^* = \\frac{\\mathrm{Cov}(x,y)}{\\mathrm{Var}(x)}$, a larger $\\mathrm{Var}(x)$ shrinks the fraction, pulling $b^*$ toward zero.\n",
        "\n",
        "\n",
        "4. How does attenuation factor into the cost-benefit analysis of gathering higher quality data or cleaning it more carefully?\n",
        "- Attenuation means that measurement error in $X$ underestimates the true relationship between $X$ and $Y$.\n",
        "- For precise inference or accurate forecasting, it’s often worth investing in better data collection or more careful cleaning to reduce noise in $X$.\n",
        "- If data cleaning or collection is too costly, some noise may remain. Then I must accept a downward bias  in the estimated slope, but might underestimate how strongly $X$ actually affects $Y$."
      ]
    },
    {
      "cell_type": "markdown",
      "id": "b67478ac-ad78-4a44-9720-583c71b8da14",
      "metadata": {
        "id": "b67478ac-ad78-4a44-9720-583c71b8da14"
      },
      "source": [
        "**Q8.**\n",
        "1. Find a dataset on a topic you're interested in. Some easy options are data.gov, kaggle.com, and data.world.\n",
        "2. Clean the data and do some exploratory data analysis on key variables that interest you. Pick a particular target/outcome variable and features/predictors.\n",
        "3. Split the sample into an ~80% training set and a ~20% test set.\n",
        "4. Run a few regressions of your target/outcome variable on a variety of features/predictors. Compute the SSE on the test set.\n",
        "5. Which model performed the best, and why?\n",
        "6. What did you learn?"
      ]
    },
    {
      "cell_type": "markdown",
      "id": "fcf48562",
      "metadata": {},
      "source": [
        "**Q9.** There is a folder called `heart_failure` which contains reasonably detailed health data on patients and whether they die of congestive heart failure. \n",
        "\n",
        "1. Load the data and perform an 80/20-train/test split.\n",
        "2. Using dummy/one-hot-encoded variables and transformations of the numeric features, build the best model you can. **But**, do not delete code chunks or revise your work substantially as you experiment. Just keep moving forward with your ideas and experiments.\n",
        "3. When you're done, scroll through your notebook. What worked and what didn't? Does your code have intention, or are you randomly experimenting? If you had to do this again, what might you do differently to get to a good model faster?\n"
      ]
    },
    {
      "cell_type": "markdown",
      "id": "0125d03b",
      "metadata": {
        "vscode": {
          "languageId": "plaintext"
        }
      },
      "source": [
        "**Q10.** Let's look at a cousin of Linear Regression, called **kernel regression** or **local constant least squares** or **Nadaraya-Watson Estimator**.\n",
        "\n",
        "We derived the OLS estimator for single linear regression by minimizing\n",
        "$$\n",
        "SSE(b_0, b_1) = \\frac{1}{N}\\sum_{i=1}^N (y_i - b_0 - b_1 x_i)^2\n",
        "$$\n",
        "with solution\n",
        "$$\n",
        "\\hat{b}_0 = \\bar{y} - \\hat{b}_1 \\bar{x}, \\quad \\hat{b}_1 = \\dfrac{\\frac{1}{N} \\sum_{i=1}^N (x_i-\\bar{x})(y_i - \\bar{y})}{s_x^2}.\n",
        "$$\n",
        "\n",
        "When you step back and think about it, this is a bit weird: The algorithm is computing sample means, variances, and covariances, and using those to create a predictive model. The data themselves arguably vanish from the solution. This is elegant, this is strange.\n",
        "\n",
        "Instead, let $k(z)$ be a kernel function, such as the Gaussian\n",
        "$$\n",
        "k(z) = \\frac{1}{\\sqrt{2\\pi}} e^{-z^2/2}\n",
        "$$\n",
        "or uniform\n",
        "$$\n",
        "k(z) = \\begin{cases}\n",
        "1/2, & |z| \\le \\frac{1}{2}\\\\\n",
        "0, & \\text{otherwise.}\n",
        "\\end{cases}\n",
        "$$\n",
        "We'll instead minimize, or each predictor value $x$,\n",
        "$$\n",
        "SSE(\\hat{y}(x)) = \\dfrac{1}{N} \\sum_{i=1}^N \\left\\lbrace y_i - \\hat{y}(x)\\right\\rbrace^2 \\dfrac{1}{h} k \\left( \\dfrac{x-x_i}{h} \\right).\n",
        "$$\n",
        "\n",
        "1. Show that the optimal predictor is\n",
        "$$\n",
        "\\hat{y}(x) = \\dfrac{ \\frac{1}{Nh} \\sum_{i=1}^N  y_i k \\left( \\dfrac{x-x_i}{h} \\right) }{\\frac{1}{Nh} \\sum_{i=1}^N k \\left(  \\dfrac{x-x_i}{h} \\right)}\n",
        "$$\n",
        "This has many names, but let's call it the local constant least squares (LCLS) estimator, as opposed to ordinary least squares (OLS).\n",
        "\n",
        "2. Compare and contrast LCLS with both OLS and $k$-Nearest Neighbor as a regression algorithm. \n",
        "\n",
        "3. Write a function or class that implements the LCLS estimator for a single predictor variable $x$. For a default bandwidth $h$, you can use the maximum of the Silverman plug-ins for estimating kernel densities for $X$ and $Y$:\n",
        "$$\n",
        "h_y = 1.06 \\times s_y^{-1/5}, \\quad h_x = 1.06 \\times s_x^{-1/5},\n",
        "$$\n",
        "$$\n",
        "h = \\max \\{ h_y, h_x \\}.\n",
        "$$\n",
        "For the kernel, you can hard-code the uniform, Gaussian, or Epanechnikov, or make it a parameter the user can adjust with a default choice.\n",
        "\n",
        "4. For one of the datasets available for the homework, use your LCLS estimator from part 3 to predict values $\\hat{y}(x_i)$ for each datapoint $x_i$. Plot your estimator $\\hat{y}$ as a line over a scatterplot of the data $\\{(x_i,y_i)\\}_{i=1}^N$. Tune the bandwidth until you \n",
        "\n",
        "5. Conceptually, how would you extend this analysis to a vector of predictors, $x = (x_1, ..., x_L)$ instead of just one explanatory variable $x$?\n"
      ]
    }
  ],
  "metadata": {
    "colab": {
      "provenance": []
    },
    "kernelspec": {
      "display_name": "venv",
      "language": "python",
      "name": "python3"
    },
    "language_info": {
      "codemirror_mode": {
        "name": "ipython",
        "version": 3
      },
      "file_extension": ".py",
      "mimetype": "text/x-python",
      "name": "python",
      "nbconvert_exporter": "python",
      "pygments_lexer": "ipython3",
      "version": "3.12.3"
    }
  },
  "nbformat": 4,
  "nbformat_minor": 5
}
